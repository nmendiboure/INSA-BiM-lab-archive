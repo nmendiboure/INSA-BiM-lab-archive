{
 "cells": [
  {
   "cell_type": "code",
   "execution_count": 1,
   "metadata": {},
   "outputs": [],
   "source": [
    "%matplotlib inline"
   ]
  },
  {
   "cell_type": "code",
   "execution_count": 2,
   "metadata": {
    "id": "TCdcRvw4X-yo"
   },
   "outputs": [],
   "source": [
    "import numpy as np\n",
    "import matplotlib.pyplot as plt\n",
    "import random\n",
    "import copy"
   ]
  },
  {
   "cell_type": "markdown",
   "metadata": {},
   "source": [
    "La méthode *compute_some_stats* permet d'effectuer des statistiques de bases : la moyenne et l'écart type d'une matrice."
   ]
  },
  {
   "cell_type": "code",
   "execution_count": 3,
   "metadata": {},
   "outputs": [],
   "source": [
    "def compute_some_stats(stats):\n",
    "    \"\"\" Compute the mean and the standard deviation\n",
    "    for a list of list of state vector \"\"\"\n",
    "    \n",
    "    stats = np.matrix(stats)\n",
    "    mean_x = np.mean(stats, axis=0)\n",
    "    std_x = np.std(stats, axis = 0)\n",
    "    \n",
    "    return mean_x, std_x"
   ]
  },
  {
   "cell_type": "markdown",
   "metadata": {},
   "source": [
    "La fonction *gillespie* permet de coder l'algorithme de gillespie mais également de donner quelques statistiques grâce à la fonction *compute_some_stats*. \n",
    "Nous avons suivi pas à pas l'algorithme étudié en cours mais nous avons du être astucieux pour certaines lignes, par exemple : \n",
    "\n",
    "*   Donner en paramètre 2 matrices : une matrice normale comme vue en cours mais aussi une matrice de réactifs seulement, cela règle le problème de certaines réactions qui ont un élement comme produit et comme réactif.\n",
    "*   Créer une variable temporaire pour le calcul des λ.\n",
    "*   Utiliser la fonction np.random.choice pour déterminer si une réaction va se passer ou pas (probabilité = lambd_norm).\n"
   ]
  },
  {
   "cell_type": "code",
   "execution_count": 4,
   "metadata": {
    "id": "uwy0ohYVlAHe"
   },
   "outputs": [],
   "source": [
    "def gillespie(x0, k, T, V,Vr):\n",
    "    \n",
    "    x=copy.deepcopy(x0)\n",
    "    t=0\n",
    "    statsX = [copy.deepcopy(x0)]\n",
    "    \n",
    "    while t <= T :\n",
    "        \n",
    "        lambd=[]\n",
    "        for i in range(len(V[0])) :\n",
    "            for j in range(len(V)): \n",
    "                tmp = k[i]\n",
    "                if Vr[j][i]<0 : #c'est un réactif\n",
    "                    tmp=tmp*x[j]\n",
    "            lambd.append(tmp)\n",
    "        Rtot=sum(lambd)\n",
    "        deltat=float(np.random.exponential(size=1,scale=(1/Rtot)))\n",
    "        lambd_norm=[lambd[i]/Rtot for i in range(len(lambd))]\n",
    "        a=[i for i in range(len(V[0]))]\n",
    "        for l in range(len(x)) : \n",
    "            x[l]=x[l]+V[l][np.random.choice(a,p=lambd_norm)]\n",
    "        t = t+deltat\n",
    "        \n",
    "        statsX.append(copy.deepcopy(x)) # stocke l'etat des réactifs à chaque itération\n",
    "        \n",
    "        mean_x, std_x = compute_some_stats(statsX)\n",
    "        \n",
    "    return x, mean_x, std_x"
   ]
  },
  {
   "cell_type": "code",
   "execution_count": 5,
   "metadata": {},
   "outputs": [],
   "source": [
    "from scipy import stats"
   ]
  },
  {
   "cell_type": "markdown",
   "metadata": {},
   "source": [
    "Pour la fonction tau_leaping, nous avons ré-utiliser celle de Gillespie puis nous l'avons modifiée un petit peu comme vue en cours."
   ]
  },
  {
   "cell_type": "code",
   "execution_count": 6,
   "metadata": {},
   "outputs": [],
   "source": [
    "def tau_leaping(x0, k, V, T, tau, v):\n",
    "    #r=réactions r1 à rj ayant chacune une constante de vitesse k et une reaction rate lambda (kj, lambdaj)\n",
    "    #V = matrice de changement du à chaque réaction\n",
    "    #v=vecteur de chanchement d'état pour chaque réactif\n",
    "    statsX = [copy.deepcopy(x0)]\n",
    "    x=x0\n",
    "    t=0\n",
    "    \n",
    "    while t <= T :\n",
    "        #Compute reaction rates lambda\n",
    "        lambd=[]\n",
    "        for i in range(len(V[0])) :\n",
    "            for j in range(len(V)): \n",
    "                tmp = k[i]\n",
    "                if V[j][i]<0 : #c'est un réactif\n",
    "                    tmp=tmp*x[j]\n",
    "            lambd.append(tmp)\n",
    "        Rtot=sum(lambd)\n",
    "        lambd_norm=[lambd[i]/Rtot for i in range(len(lambd))]\n",
    "\n",
    "        #for all vi in v : vi <- 0\n",
    "        for i in range(len(v)):\n",
    "            v[i]=0\n",
    "        #Pour chaque réaction, on calcule le Kri, nombre de fois que la réaction k se produit entre t et tau \n",
    "        #suit une loi de poisson de paramètre lambdai*tau\n",
    "        for i in range(len(V[0])):#pour chaque réaction\n",
    "            Kri=stats.poisson.rvs(mu = lambd[i]*tau, size = 1) \n",
    "            #v <- v + Kri*V.j\n",
    "            for j in range(len(v)):\n",
    "                v[j]=int(v[j]+Kri*V[j][i])\n",
    "        for i in range(len(x)): \n",
    "            if x[i]+v[i]>0:\n",
    "                x[i]+=v[i]\n",
    "            else:\n",
    "                break\n",
    "        t = t+tau\n",
    "        \n",
    "        statsX.append(copy.deepcopy(x))\n",
    "        \n",
    "        mean_x, std_x = compute_some_stats(statsX)\n",
    "        \n",
    "    return x, mean_x, std_x"
   ]
  },
  {
   "cell_type": "code",
   "execution_count": 7,
   "metadata": {
    "colab": {
     "base_uri": "https://localhost:8080/"
    },
    "id": "TcQGXhJHXfE8",
    "outputId": "aab88098-c978-44d6-f52f-df138cf9b944"
   },
   "outputs": [
    {
     "data": {
      "text/plain": [
       "([1, -2, 1],\n",
       " matrix([[ 2.1, -0.5,  0.7]]),\n",
       " matrix([[0.94339811, 1.36014705, 0.64031242]]))"
      ]
     },
     "execution_count": 7,
     "metadata": {},
     "output_type": "execute_result"
    }
   ],
   "source": [
    "k=[1,3]\n",
    "x0=[2,1,2]\n",
    "V=[[-1,1],[-1,1],[1,-1]]\n",
    "Vr=V\n",
    "\n",
    "#-1   1\n",
    "#-1   1\n",
    "# 1  -1\n",
    "\n",
    "\n",
    "gillespie(x0,k,2,V,Vr)"
   ]
  },
  {
   "cell_type": "markdown",
   "metadata": {
    "id": "7FeETWz4VPDN"
   },
   "source": [
    "## Exercices 1 & 2 :\n"
   ]
  },
  {
   "cell_type": "markdown",
   "metadata": {},
   "source": [
    "#### Ex1 : Implémentation de la méthode gillespie cf. plus haut"
   ]
  },
  {
   "cell_type": "markdown",
   "metadata": {},
   "source": [
    "#### Ex2 : Simple bio-chemical reactions"
   ]
  },
  {
   "cell_type": "code",
   "execution_count": 22,
   "metadata": {
    "colab": {
     "base_uri": "https://localhost:8080/"
    },
    "id": "bAmHdfjzRUid",
    "outputId": "a7d20130-426b-4902-a15e-99bcfed93327"
   },
   "outputs": [
    {
     "name": "stdout",
     "output_type": "stream",
     "text": [
      "Final state of the molecules :  [99, 99, 101, 100, 100] \n",
      "\n",
      "Mean of number of molecules :  [[ 99.5  99.5 100.5 100.  100. ]] \n",
      "\n",
      "Standart deviation :  [[0.5 0.5 0.5 0.  0. ]]\n"
     ]
    }
   ],
   "source": [
    "x0_ex2=[100,100,100,100,100]\n",
    "T_ex2=2\n",
    "#Vr : \n",
    "#   R1  R2  R3  R4  R5  R6  R7\n",
    "# A 0   -1  -1  -1  -1  0   0\n",
    "# B 0   0   -1   0  -1  0   0\n",
    "# C 0   0    0   0  0   -1  -1\n",
    "# D 0   0    0   0  0   0   0\n",
    "# E 0   0    0   0  0   0   0\n",
    "\n",
    "#V :  \n",
    "#   R1  R2  R3  R4  R5  R6  R7\n",
    "# A 1   -1  -1  0   -1  1   0\n",
    "# B 0   0   -1  1   -1  1   0\n",
    "# C 0   0    1  0    1  -1  -1\n",
    "# D 0   0    0  0    0  0   1\n",
    "# E 0   0    0  0    0  0   1\n",
    "\n",
    "k1= 0.1\n",
    "k2 = 0.05\n",
    "k = 0.2\n",
    "k_ex2=[k1, k2,k, k, k1, k1, k2]\n",
    "\n",
    "V_ex2=[[1,-1,-1,0,-1,1,0],[0,0,-1,1,-1,1,0],[0,0,1,0,1,-1,-1], [0,0,0,0,0,0,1],[0,0,0,0,0,0,1]]\n",
    "Vr_ex2=[[0,-1,-1,-1,-1,0,0],[0,0,-1,0,-1,0,0],[0,0,0,0,0,-1,-1], [0,0,0,0,0,0,0],[0,0,0,0,0,0,0]]\n",
    "\n",
    "X2, mean_X2, std_X2 = gillespie(x0_ex2,k_ex2, 2, V_ex2, Vr_ex2)\n",
    "print (\"Final state of the molecules : \", X2, \"\\n\")\n",
    "print (\"Mean of number of molecules : \", mean_X2, \"\\n\")\n",
    "print (\"Standart deviation : \", std_X2)"
   ]
  },
  {
   "cell_type": "code",
   "execution_count": 9,
   "metadata": {},
   "outputs": [],
   "source": [
    "# Equations for the molecules (ODE) :\n",
    "\n",
    "#R1 \n",
    "# dAdt = k1\n",
    "\n",
    "#R2 \n",
    "# dAdt = -k2[A]\n",
    "\n",
    "#R3\n",
    "# dAdt = -k[A]\n",
    "# dBdt = -k[B]\n",
    "# dCdt = k[A] + k[B] = k[C]\n",
    "\n",
    "#R4\n",
    "# dAdt = -k[A] + k[A] = 0\n",
    "# dBdt = k[A]\n",
    "\n",
    "#R5\n",
    "# dAdt = -k1[A]\n",
    "# dBdt = -k1[B]\n",
    "# dCdt = k1[A] + k1[B] = k1[C]\n",
    "\n",
    "#R6\n",
    "# dAdt = k1[C]\n",
    "# dBdt = k1[C]\n",
    "# dCdt = -k1[C]\n",
    "\n",
    "#R7\n",
    "# dCdt = -k2[C]\n",
    "# dDdt = k2[C]\n",
    "# dEdt = k2[C]\n",
    "\n",
    "\n",
    "# Resulting of the 7 reactions :\n",
    "\n",
    "# dAdt = k1 -k2[A] -k[A] -k1[A] + k1[C]\n",
    "# dBdt = -k[B]+k[A]-k1[B]+k1[C]\n",
    "# dCdt = k[C] + k1[C] -k1[C] - k2[C] \n",
    "# dDdt = k2[C]\n",
    "# dEdt = k2[C]\n"
   ]
  },
  {
   "cell_type": "markdown",
   "metadata": {},
   "source": [
    "On compare avec les résultats d'un systeme d'équations différentielles."
   ]
  },
  {
   "cell_type": "code",
   "execution_count": 10,
   "metadata": {},
   "outputs": [],
   "source": [
    "from scipy.integrate import odeint "
   ]
  },
  {
   "cell_type": "code",
   "execution_count": 11,
   "metadata": {},
   "outputs": [],
   "source": [
    "def dX_dt(x,t, k1, k2, k):\n",
    "    return (k1*1 - k2*x[0] - k*x[0] - k1*x[0] + k1*x[2],\n",
    "           -k*x[1] + k*x[0] -k1*x[1] + k1*x[2] ,\n",
    "           k*x[0] + k*x[1] + k1*x[0] + k1*x[1] - k1*x[2] - k2*x[2],\n",
    "           k2*x[2],\n",
    "           k2*x[2])"
   ]
  },
  {
   "cell_type": "code",
   "execution_count": 30,
   "metadata": {},
   "outputs": [
    {
     "name": "stdout",
     "output_type": "stream",
     "text": [
      "[[100.         100.         100.         100.         100.        ]\n",
      " [ 79.26500267  99.95870168 142.44869023 106.79928146 106.79928146]\n",
      " [ 68.53261528 100.50284085 173.78261478 115.62324    115.62324   ]\n",
      " [ 63.78511504 102.10621847 198.36211097 125.98431717 125.98431717]\n",
      " [ 62.61951488 104.85199702 218.99548377 137.59100538 137.59100538]\n",
      " [ 63.61293038 108.66285995 237.48546114 150.27784584 150.27784584]\n",
      " [ 65.93301793 113.41398583 254.98884584 163.96025648 163.96025648]\n",
      " [ 69.10051287 118.98403844 272.25108232 178.60563048 178.60563048]\n",
      " [ 72.84554388 125.27465738 289.75798823 194.21500532 194.21500532]\n",
      " [ 77.02137643 132.21488481 307.83316321 210.81154618 210.81154618]]\n"
     ]
    }
   ],
   "source": [
    "ts=np.linspace(0, 10, 10)\n",
    "x0 = [100, 100, 100, 100, 100]\n",
    "k1=0.1\n",
    "k2 = 0.05\n",
    "k=0.2\n",
    "solx = odeint(dX_dt, x0, ts, args=(k1, k2, k))\n",
    "print(solx)"
   ]
  },
  {
   "cell_type": "markdown",
   "metadata": {},
   "source": [
    "On fonction des paramètre de constantes d'équilibres $k$ que l'on choisit nous pouvons tomber sur des résultats similaires à ceux observés en utilisant Gillespie."
   ]
  },
  {
   "cell_type": "markdown",
   "metadata": {
    "id": "sCy4SuYhZYo6"
   },
   "source": [
    "## Exercice 3 : Gene expression"
   ]
  },
  {
   "cell_type": "code",
   "execution_count": 13,
   "metadata": {
    "colab": {
     "base_uri": "https://localhost:8080/"
    },
    "id": "-botkw_eZZ2p",
    "outputId": "c5c21f3a-138d-460a-9c8f-356ba3bc07f6"
   },
   "outputs": [
    {
     "data": {
      "text/plain": [
       "([101, 100, 100, 65],\n",
       " matrix([[100.08333333, 100.        , 100.        ,  82.5       ]]),\n",
       " matrix([[ 0.2763854 ,  0.        ,  0.        , 10.38829469]]))"
      ]
     },
     "execution_count": 13,
     "metadata": {},
     "output_type": "execute_result"
    }
   ],
   "source": [
    "x0_ex3=[100,100,100,100]\n",
    "\n",
    "#Vr\n",
    "#           R1 R2 R3 R4 R5 R6\n",
    "# dna*      -1 0  0  0  0  0\n",
    "# dna       0  -1 -1 0  0  0\n",
    "# rna       0  0  0  -1 -1  0\n",
    "# protein   0  0  0  0   0  -1\n",
    "\n",
    "#V\n",
    "#           R1 R2 R3 R4 R5 R6\n",
    "# dna*      -1 1  0  0  0  0\n",
    "# dna       1  -1 0  0  0  0\n",
    "# rna       0  0  1  0  -1 0\n",
    "# protein   0  0  0  1  0  -1\n",
    "\n",
    "k_ex3=[k1,k1,k,k,k,k]\n",
    "\n",
    "Vr_ex3=[[-1,0,0,0,0,0], [0,-1,-1,0,0,0],[0,0,0,-1,-1,0],[0,0,0,0,0,-1]]\n",
    "V_ex3= [[-1,1,0,0,0,0], [1,-1,0,0,0,0],[0,0,1,0,-1,0],[0,0,0,1,0,-1]]\n",
    "\n",
    "gillespie(x0_ex3,k_ex3,2,V_ex3,Vr_ex3)"
   ]
  },
  {
   "cell_type": "markdown",
   "metadata": {},
   "source": [
    "On peut voir que les colonnes 2 et 3 ont les mêmes statistiques."
   ]
  },
  {
   "cell_type": "markdown",
   "metadata": {
    "id": "2N3PaMmQb3nW"
   },
   "source": [
    "## Exercice 4 : Lotka-Volterra"
   ]
  },
  {
   "cell_type": "code",
   "execution_count": 14,
   "metadata": {
    "colab": {
     "base_uri": "https://localhost:8080/"
    },
    "id": "D55hKnEFb5AK",
    "outputId": "e87d7e68-06a2-4a89-ee1f-d955a0f8f2ac"
   },
   "outputs": [
    {
     "data": {
      "text/plain": [
       "([100, 67], matrix([[100. ,  83.5]]), matrix([[0.        , 9.81070844]]))"
      ]
     },
     "execution_count": 14,
     "metadata": {},
     "output_type": "execute_result"
    }
   ],
   "source": [
    "x0_ex4=[100,100]\n",
    "\n",
    "#V\n",
    "#         R1   R2   R3\n",
    "#prey     1    -1   0\n",
    "#predator 0    1   -1\n",
    "\n",
    "#Vr\n",
    "#         R1   R2   R3\n",
    "#prey     0    -1   0\n",
    "#predator 0    -1   -1\n",
    "\n",
    "k_ex4=[k1,k2,k]\n",
    "\n",
    "V_ex4=[[1,-1,0],[0,1,-1]]\n",
    "Vr_ex4=[[0,-1,0],[0,-1,-1]]\n",
    "\n",
    "gillespie(x0_ex4,k_ex4,2,V_ex4,V_ex4)"
   ]
  },
  {
   "cell_type": "markdown",
   "metadata": {
    "id": "S6MjqHNsdMUj"
   },
   "source": [
    "## Exercice 5 : Bifurcation"
   ]
  },
  {
   "cell_type": "code",
   "execution_count": 15,
   "metadata": {
    "colab": {
     "base_uri": "https://localhost:8080/"
    },
    "id": "IBKwmhEcehJb",
    "outputId": "f9f0ef0f-bc65-4a32-ec68-913ef0bcf601"
   },
   "outputs": [
    {
     "data": {
      "text/plain": [
       "([99, 100, 100, 100],\n",
       " matrix([[ 99.5, 100. , 100. , 100. ]]),\n",
       " matrix([[0.5, 0. , 0. , 0. ]]))"
      ]
     },
     "execution_count": 15,
     "metadata": {},
     "output_type": "execute_result"
    }
   ],
   "source": [
    "V_ex5=[[1,0,-1,1,0],[0,1,0,0,-1],[0,0,0,0,1],[0,0,0,0,1]]\n",
    "Vr_ex5=[[0,0,-1,0,0],[0,0,0,0,-1],[0,0,-1,-2,-1],[0,0,0,0,0]]\n",
    "\n",
    "k_ex5=[k, k, k1, k1, k2]\n",
    "x0_ex5=[100, 100, 100, 100]\n",
    "\n",
    "gillespie(x0_ex5,k_ex5,2,V_ex5,Vr_ex5)"
   ]
  },
  {
   "cell_type": "markdown",
   "metadata": {},
   "source": [
    "Le système met en évidence une bifurcation de Hopf."
   ]
  },
  {
   "cell_type": "markdown",
   "metadata": {
    "id": "8hZ5ud5GdKIL"
   },
   "source": [
    "## Exercice 6 : SIR system"
   ]
  },
  {
   "cell_type": "code",
   "execution_count": 16,
   "metadata": {
    "colab": {
     "base_uri": "https://localhost:8080/"
    },
    "id": "zx9WGBrQdRQh",
    "outputId": "722388f8-ad99-4ddc-bcf1-b73e1d17f70e"
   },
   "outputs": [
    {
     "data": {
      "text/plain": [
       "([96, 107, 105],\n",
       " matrix([[ 98.54545455, 102.09090909, 102.77272727]]),\n",
       " matrix([[1.72487872, 2.92184703, 1.53539507]]))"
      ]
     },
     "execution_count": 16,
     "metadata": {},
     "output_type": "execute_result"
    }
   ],
   "source": [
    "# 0 --(k1)--> S \n",
    "# S --(k2)--> I\n",
    "# I --(k3)--> R\n",
    "# I --(k4)--> 0 \n",
    "\n",
    "x0_ex6 = [100,100,100]\n",
    "\n",
    "#V\n",
    "\n",
    "#     R1   R2   R3   R4\n",
    "#  S  1    -1   0    0\n",
    "#  I  0    1    -1   -1\n",
    "#  R  0    0    1    0\n",
    "\n",
    "#Vr\n",
    "\n",
    "#     R1   R2   R3   R4\n",
    "#  S  0    -1   0    0\n",
    "#  I  0    0    -1   -1\n",
    "#  R  0    0    0    0\n",
    "\n",
    "V_ex6=[[1,-1,0,0], [0,1,-1,-1],[0,0,1,0]]\n",
    "\n",
    "Vr_ex6 =[[0,-1,0,0], [0,0,-1,-1],[0,0,0,0]]\n",
    "\n",
    "k1 = 1/3\n",
    "k2 = 0.75\n",
    "k3 = 0.5\n",
    "k4 = 0.1\n",
    "\n",
    "k_ex6 = [k1,k2,k3,k4]\n",
    "\n",
    "gillespie(x0_ex6,k_ex6,10,V_ex6,Vr_ex6)"
   ]
  },
  {
   "cell_type": "code",
   "execution_count": 17,
   "metadata": {},
   "outputs": [
    {
     "data": {
      "text/plain": [
       "([101, 94, 106],\n",
       " matrix([[100.5,  97. , 103. ]]),\n",
       " matrix([[0.5      , 2.1602469, 2.1602469]]))"
      ]
     },
     "execution_count": 17,
     "metadata": {},
     "output_type": "execute_result"
    }
   ],
   "source": [
    "x0_ex6 = [100,100,100]\n",
    "V_ex6=[[1,-1,0,0], [0,1,-1,-1],[0,0,1,0]]\n",
    "k_ex6 = [k1,k1,k2,k]\n",
    "v=[1,1,1]\n",
    "tau_leaping(x0_ex6, k_ex6, V_ex6, 2, 0.5, v)"
   ]
  },
  {
   "cell_type": "code",
   "execution_count": null,
   "metadata": {},
   "outputs": [],
   "source": []
  },
  {
   "cell_type": "code",
   "execution_count": null,
   "metadata": {},
   "outputs": [],
   "source": []
  },
  {
   "cell_type": "code",
   "execution_count": null,
   "metadata": {},
   "outputs": [],
   "source": []
  },
  {
   "cell_type": "code",
   "execution_count": null,
   "metadata": {},
   "outputs": [],
   "source": []
  }
 ],
 "metadata": {
  "colab": {
   "name": "Gillespie.ipynb",
   "provenance": []
  },
  "kernelspec": {
   "display_name": "Python 3",
   "language": "python",
   "name": "python3"
  },
  "language_info": {
   "codemirror_mode": {
    "name": "ipython",
    "version": 3
   },
   "file_extension": ".py",
   "mimetype": "text/x-python",
   "name": "python",
   "nbconvert_exporter": "python",
   "pygments_lexer": "ipython3",
   "version": "3.8.8"
  }
 },
 "nbformat": 4,
 "nbformat_minor": 1
}
