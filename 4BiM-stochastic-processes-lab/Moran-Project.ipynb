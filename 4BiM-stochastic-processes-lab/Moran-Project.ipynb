{
 "cells": [
  {
   "cell_type": "code",
   "execution_count": 1,
   "metadata": {},
   "outputs": [],
   "source": [
    "import random\n",
    "import math\n",
    "import time\n",
    "import numpy as np\n",
    "import matplotlib.pyplot as plt"
   ]
  },
  {
   "cell_type": "code",
   "execution_count": 2,
   "metadata": {},
   "outputs": [],
   "source": [
    "random.seed(time.time()) #To get a \"really\" random generator "
   ]
  },
  {
   "cell_type": "code",
   "execution_count": 3,
   "metadata": {},
   "outputs": [],
   "source": [
    "class Cell ( object) :\n",
    "    \n",
    "    next_ID = 0\n",
    "    \n",
    "    def __init__(self, state = \"NORMAL\", fitness = 1, mutation_rate = 0.001):\n",
    "        self.state = state\n",
    "        self.fitness = fitness\n",
    "        self.mutation_rate = mutation_rate\n",
    "        self.ID = Cell.next_ID\n",
    "        self.treatment_duration = 0\n",
    "        Cell.next_ID += 1\n",
    "        \n",
    "    def __str__(self):\n",
    "        return \"Cell #{0} of type : {1}\".format(self.ID, self.state)\n",
    "    \n",
    "    def become_cancerous_or_not (self):\n",
    "        proba = random.uniform(0, 0.002)\n",
    "        if self.mutation_rate > proba :\n",
    "            self.state = \"CANCEROUS\"\n",
    "            self.fitness = fc\n",
    "            self.mutation_rate = mu_c\n",
    "    \n",
    "    def apoptose (self):\n",
    "        self.state = \"DEAD\"\n",
    "        \n",
    "    def treatment (self, alpha):\n",
    "        self.fitness = self.fitness * alpha\n",
    "        self.treatment_duration += 1"
   ]
  },
  {
   "cell_type": "code",
   "execution_count": 4,
   "metadata": {},
   "outputs": [],
   "source": [
    "class Tissue ( object ) :\n",
    "    \n",
    "    def __init__(self, omega, alpha, fitness_n, fitness_c, mutation_rate_n, mutation_rate_c, generation_time):\n",
    "        self.fitness_n = fitness_n\n",
    "        self.fitness_c = fitness_c\n",
    "        self.mutation_rate_n = mutation_rate_n\n",
    "        self.mutation_rate_c = mutation_rate_c\n",
    "        self.generation_time = generation_time\n",
    "        self.omega = omega\n",
    "        self.alpha = alpha\n",
    "        self.pop = []\n",
    "     \n",
    "    def create_cell (self, state, fitness, mutation_rate):\n",
    "        return ( Cell (state, fitness, mutation_rate) )\n",
    "        \n",
    "    \n",
    "    def initial_population (self, N = 1000, prop_cancer = 0.05):\n",
    "        nb_cancer_cells = round (prop_cancer *N)\n",
    "        \n",
    "        for i in range(N):\n",
    "            if ( i < nb_cancer_cells) :\n",
    "                state = \"CANCEROUS\"\n",
    "                fitness = self.fitness_c\n",
    "                mutation_rate = self.mutation_rate_c\n",
    "\n",
    "            else :\n",
    "                state = \"NORMAL\"\n",
    "                fitness = self.fitness_n\n",
    "                mutation_rate = self.mutation_rate_n\n",
    "                \n",
    "                \n",
    "            new_cell = self.create_cell (state, fitness, mutation_rate)\n",
    "            self.pop.append(new_cell)\n",
    "\n",
    "    def stats(self):\n",
    "        nb_cells = len( self.pop )\n",
    "        nb_cancer_cells = 0\n",
    "        nb_normal_cells = 0\n",
    "        nb_dead = 0\n",
    "        detection = False\n",
    "        \n",
    "        \n",
    "        for cell in self.pop:\n",
    "            if cell.state == \"NORMAL\":\n",
    "                nb_normal_cells += 1\n",
    "            elif cell.state == \"CANCEROUS\" :\n",
    "                nb_cancer_cells += 1\n",
    "            elif cell.state == \"DEAD\" :\n",
    "                nb_dead += 1\n",
    "                \n",
    "            if nb_cancer_cells > self.omega * nb_cells :\n",
    "                detection = True\n",
    "            \n",
    "        return (nb_cells, nb_normal_cells, nb_cancer_cells, detection)\n",
    "            \n",
    "    def get_treatment(self):\n",
    "        if (self.stats()[3] == True ): #if the cancer has been detected \n",
    "            for cell in self.pop:\n",
    "                if (cell.state == \"CANCEROUS\") and (cell.treatment_duration < self.generation_time):\n",
    "                    cell.treatment(self.alpha)\n",
    "    \n",
    "    def reproduce (self):\n",
    "        proba = random.uniform(0, 1)\n",
    "        minimum = 1\n",
    "        candidat = self.pop[0]\n",
    "        \n",
    "        for cell in self.pop :\n",
    "            #selection of an individual with a proba proportional to the fitness\n",
    "            #i.e. minimize the différence between the proba and the fitness\n",
    "            if ( abs( cell.fitness - proba) < minimum):\n",
    "                minimum = abs( cell.fitness - proba)\n",
    "                candidat = cell\n",
    "        \n",
    "        new_cell = self.create_cell(candidat.state, candidat.fitness, candidat.mutation_rate)\n",
    "\n",
    "        if new_cell.state == \"NORMAL\":\n",
    "            new_cell.become_cancerous_or_not()\n",
    "        \n",
    "        self.pop.append(new_cell)\n",
    "    \n",
    "    def get_apoptose(self):\n",
    "        cell = random.choice(self.pop)\n",
    "        self.pop.remove(cell)\n",
    "        cell.apoptose()"
   ]
  },
  {
   "cell_type": "markdown",
   "metadata": {},
   "source": [
    "The simulation with a while loop takes a lot of time (it ends very rarely), maybe this is due to my code. Besides, in order to have a simulation, I decided to replace the while loop by a for loop."
   ]
  },
  {
   "cell_type": "code",
   "execution_count": 5,
   "metadata": {},
   "outputs": [],
   "source": [
    "def simulation (nb_runs, omega, alpha, fn, fc, mu_n, mu_c, T, treatment = True, verbose = True):\n",
    "    \n",
    "    my_tissue = Tissue(omega , alpha, fn, fc, mu_n, mu_c, T)\n",
    "    my_tissue.initial_population(N = 1000, prop_cancer = 0.1) #initial population of 1000 individus\n",
    "    \n",
    "    if verbose:\n",
    "        print(\"Initilisation : \")\n",
    "        print ( \"Total number of cells : {}, number of normal cells : {}, number of cancerous cells : {}\".format(my_tissue.stats()[0], my_tissue.stats()[1], my_tissue.stats()[2]), \"\\n\" ) \n",
    "\n",
    "    for i in range (nb_runs):\n",
    "        my_tissue.reproduce()\n",
    "        my_tissue.get_apoptose()\n",
    "        \n",
    "        if (treatment) :\n",
    "            my_tissue.get_treatment()\n",
    "        \n",
    "        nb_cells, nb_normal_cells, nb_cancer_cells, detection = my_tissue.stats()\n",
    "    \n",
    "    if verbose :\n",
    "        print ( \"Statistics after\", nb_runs, \"runs : \")\n",
    "        print ( \"Total number of cells : {}, number of normal cells : {}, number of cancerous cells : {}\".format(nb_cells, nb_normal_cells, nb_cancer_cells, \"\\n\" ) ) \n",
    "    \n",
    "    return (my_tissue.stats())"
   ]
  },
  {
   "cell_type": "code",
   "execution_count": 6,
   "metadata": {},
   "outputs": [],
   "source": [
    "N = 10000 #number of runs for the simulation with the for - loop \n",
    "\n",
    "mu_n = 0.001 #mutation rate for normal cells\n",
    "mu_c = 0.010 #mutation rate for cancerous cells\n",
    "\n",
    "fn = 1 #fitness for normal cells\n",
    "fc = 0.85 #fitness for cancerous cells\n",
    "\n",
    "# Detection of the cancer :\n",
    "\n",
    "omega = 0.25 #cutoff for the cancer-detection\n",
    "alpha = 1/8 #treatment constant that reduces fitness for cancerous cells\n",
    "T = 50 #number of generations the treatment is still efficient"
   ]
  },
  {
   "cell_type": "code",
   "execution_count": 7,
   "metadata": {},
   "outputs": [
    {
     "name": "stdout",
     "output_type": "stream",
     "text": [
      "Initilisation : \n",
      "Total number of cells : 1000, number of normal cells : 900, number of cancerous cells : 100 \n",
      "\n",
      "Statistics after 10000 runs : \n",
      "Total number of cells : 1000, number of normal cells : 35, number of cancerous cells : 965\n"
     ]
    }
   ],
   "source": [
    "#Without treatment :\n",
    "\n",
    "simulation1 = simulation (N, omega, alpha, fn, fc, mu_n, mu_c, T, treatment=False, verbose=True)"
   ]
  },
  {
   "cell_type": "code",
   "execution_count": 8,
   "metadata": {},
   "outputs": [
    {
     "name": "stdout",
     "output_type": "stream",
     "text": [
      "Initilisation : \n",
      "Total number of cells : 1000, number of normal cells : 900, number of cancerous cells : 100 \n",
      "\n",
      "Statistics after 10000 runs : \n",
      "Total number of cells : 1000, number of normal cells : 255, number of cancerous cells : 745\n"
     ]
    }
   ],
   "source": [
    "#With treatment :\n",
    "\n",
    "simulation2 = simulation (N, omega, alpha, fn, fc, mu_n, mu_c, T, treatment=True, verbose=True)"
   ]
  },
  {
   "cell_type": "raw",
   "metadata": {},
   "source": [
    "# Simulation (WHILE) :\n",
    "\n",
    "my_tissue = Tissue(omega , alpha, fn, fc, mu_n, mu_c, T)\n",
    "my_tissue.initial_population(N =1000, prop_cancer = 0.1)\n",
    "\n",
    "while (nb_cancerous_cells != 0 and nb_normal_cell != 0)\n",
    "    my_tissue.reproduction()\n",
    "    my_tissue.apoptose()\n",
    "    \n",
    "    if treatment :\n",
    "        my_tissue.get_treatment()\n",
    "\n",
    "print ( my_tissue.stats() )"
   ]
  },
  {
   "cell_type": "code",
   "execution_count": 9,
   "metadata": {},
   "outputs": [],
   "source": [
    "def shannon_diversity (N, n):\n",
    "    p = n/N\n",
    "    return (- p *  math.log(p, 2)) #napierian logarithm"
   ]
  },
  {
   "cell_type": "code",
   "execution_count": 10,
   "metadata": {},
   "outputs": [
    {
     "data": {
      "text/plain": [
       "0.04960018216891177"
      ]
     },
     "execution_count": 10,
     "metadata": {},
     "output_type": "execute_result"
    }
   ],
   "source": [
    "shannon_diversity (1000, simulation1[2]) #without treatment"
   ]
  },
  {
   "cell_type": "code",
   "execution_count": 11,
   "metadata": {},
   "outputs": [
    {
     "data": {
      "text/plain": [
       "0.3163923136378596"
      ]
     },
     "execution_count": 11,
     "metadata": {},
     "output_type": "execute_result"
    }
   ],
   "source": [
    "shannon_diversity (1000, simulation2[2]) #with treatment"
   ]
  },
  {
   "cell_type": "markdown",
   "metadata": {},
   "source": [
    "Here is a new simulation to see the effect of alpha on the treatment :"
   ]
  },
  {
   "cell_type": "code",
   "execution_count": 12,
   "metadata": {},
   "outputs": [],
   "source": [
    "simulations = [ ]\n",
    "#We have 10 simulations for 10 alphas different (complexity of 100)\n",
    "#Each simulation make 1000 inner runs ( or iterations )\n",
    "\n",
    "alpha2 = np.linspace(0, 1,10)\n",
    "for a in alpha2:\n",
    "    run = []\n",
    "    for i in range(10):\n",
    "        run.append (simulation (1000, omega, a, fn, fc, mu_n, mu_c, T, treatment=True, verbose = False)[2]) #just the cancerous cells\n",
    "    simulations.append(run)"
   ]
  },
  {
   "cell_type": "code",
   "execution_count": 13,
   "metadata": {},
   "outputs": [
    {
     "name": "stdout",
     "output_type": "stream",
     "text": [
      "[[529, 533, 541, 547, 539, 541, 508, 517, 536, 515], [528, 535, 530, 534, 524, 534, 513, 522, 546, 529], [533, 517, 553, 546, 525, 573, 551, 551, 529, 547], [572, 553, 527, 532, 521, 530, 554, 553, 541, 542], [547, 539, 543, 537, 556, 551, 539, 545, 555, 528], [556, 541, 549, 565, 533, 572, 558, 540, 569, 554], [573, 558, 568, 586, 578, 560, 546, 567, 572, 564], [573, 561, 586, 564, 565, 564, 561, 580, 581, 562], [596, 587, 592, 608, 596, 607, 592, 589, 593, 579], [637, 643, 641, 650, 632, 653, 646, 625, 633, 639]]\n"
     ]
    }
   ],
   "source": [
    "print(simulations)"
   ]
  },
  {
   "cell_type": "code",
   "execution_count": 14,
   "metadata": {},
   "outputs": [],
   "source": [
    "#Compute the means of cancerous cells for each alpha :\n",
    "\n",
    "concat_simu = []\n",
    "for lst in range(len(simulations)):\n",
    "    sum_ = 0\n",
    "    for i in simulations[lst]:\n",
    "        sum_ += i\n",
    "    concat_simu.append(sum_/10)"
   ]
  },
  {
   "cell_type": "code",
   "execution_count": 15,
   "metadata": {},
   "outputs": [
    {
     "data": {
      "text/plain": [
       "[530.6, 529.5, 542.5, 542.5, 544.0, 553.7, 567.2, 569.7, 593.9, 639.9]"
      ]
     },
     "execution_count": 15,
     "metadata": {},
     "output_type": "execute_result"
    }
   ],
   "source": [
    "concat_simu"
   ]
  },
  {
   "cell_type": "code",
   "execution_count": 16,
   "metadata": {},
   "outputs": [
    {
     "data": {
      "image/png": "[encoded data removed]",
      "text/plain": [
       "<Figure size 1152x720 with 1 Axes>"
      ]
     },
     "metadata": {
      "needs_background": "light"
     },
     "output_type": "display_data"
    }
   ],
   "source": [
    "plt.figure(figsize=(16, 10))\n",
    "plt.plot(alpha2, concat_simu)\n",
    "plt.xlabel(\"alpha in [0, 1]\")\n",
    "plt.ylabel(\"Number of cancerous cells after 1000 runs\")\n",
    "plt.show()"
   ]
  },
  {
   "cell_type": "code",
   "execution_count": null,
   "metadata": {},
   "outputs": [],
   "source": []
  }
 ],
 "metadata": {
  "kernelspec": {
   "display_name": "Python 3",
   "language": "python",
   "name": "python3"
  },
  "language_info": {
   "codemirror_mode": {
    "name": "ipython",
    "version": 3
   },
   "file_extension": ".py",
   "mimetype": "text/x-python",
   "name": "python",
   "nbconvert_exporter": "python",
   "pygments_lexer": "ipython3",
   "version": "3.8.8"
  }
 },
 "nbformat": 4,
 "nbformat_minor": 4
}
